{
 "cells": [
  {
   "cell_type": "code",
   "execution_count": null,
   "id": "6a998c65-5c4e-420e-b5c1-20481db051a5",
   "metadata": {},
   "outputs": [],
   "source": [
    "#import libraries\n",
    "#Need to pip install selenium\n",
    "from splinter import Browser\n",
    "from bs4 import BeautifulSoup as soup\n",
    "import re\n",
    "import pandas as pd\n",
    "import matplotlib.pyplot as plt\n",
    "import time"
   ]
  },
  {
   "cell_type": "code",
   "execution_count": null,
   "id": "2620664b-d785-432b-866e-0dd4cf0f1731",
   "metadata": {},
   "outputs": [],
   "source": [
    "# Set up splinter\n",
    "browser = Browser('chrome')\n",
    "\n",
    "# base url\n",
    "base_url = \"https://www.facebook.com/marketplace/sanfrancisco/search?\"\n",
    "\n",
    "# search parameters\n",
    "# days_listed = 7\n",
    "deliveryMethod = \"local_pick_up\"\n",
    "query = \"honda%20insight\"\n",
    "\n",
    "#full url\n",
    "url = f\"{base_url}deliveryMethod={deliveryMethod}&query={query}\"\n"
   ]
  }
 ],
 "metadata": {
  "kernelspec": {
   "display_name": "Python 3 (ipykernel)",
   "language": "python",
   "name": "python3"
  },
  "language_info": {
   "codemirror_mode": {
    "name": "ipython",
    "version": 3
   },
   "file_extension": ".py",
   "mimetype": "text/x-python",
   "name": "python",
   "nbconvert_exporter": "python",
   "pygments_lexer": "ipython3",
   "version": "3.10.0"
  }
 },
 "nbformat": 4,
 "nbformat_minor": 5
}
