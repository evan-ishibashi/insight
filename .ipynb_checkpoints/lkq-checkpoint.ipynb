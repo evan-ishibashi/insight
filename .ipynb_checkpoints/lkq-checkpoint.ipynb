{
 "cells": [
  {
   "cell_type": "code",
   "execution_count": 16,
   "id": "db586c80-bc77-4f4b-b714-dbac39335295",
   "metadata": {},
   "outputs": [],
   "source": [
    "from lkq_utils import Lkq_utils as Lkq"
   ]
  },
  {
   "cell_type": "code",
   "execution_count": 17,
   "id": "802f9da0-b682-4aa7-96c7-ce1d4537469d",
   "metadata": {},
   "outputs": [],
   "source": [
    "browser = Lkq.create_browser('honda insight','milwaukee-1256')"
   ]
  },
  {
   "cell_type": "code",
   "execution_count": 21,
   "id": "202587df-b3ec-4f94-b00e-85b90bcb28af",
   "metadata": {},
   "outputs": [],
   "source": [
    "market_soup = Lkq.get_html(browser)"
   ]
  },
  {
   "cell_type": "code",
   "execution_count": 22,
   "id": "11839327-3e3a-4da2-bf4b-a3d9d17284a6",
   "metadata": {},
   "outputs": [
    {
     "name": "stdout",
     "output_type": "stream",
     "text": [
      "[<div class=\"pypvi_details text--small\">\n",
      "<a class=\"pypvi_ymm\" href=\"/inventory/milwaukee-1256/2011-honda-insight/\">\n",
      "                    2011 <wbr/>HONDA <wbr/>INSIGHT\n",
      "                </a>\n",
      "<div class=\"pypvi_detailItem\">\n",
      "<b>Color: </b>Silver\n",
      "                </div>\n",
      "<div class=\"pypvi_detailItem\">\n",
      "<b>VIN: </b>JHMZE2H75BS003813\n",
      "                </div>\n",
      "<div class=\"pypvi_detailItem\">\n",
      "<b>Section: </b>Imports\n",
      "                      \n",
      "                    <b>Row: </b>47\n",
      "                      \n",
      "                    <b>Space: </b>13\n",
      "                </div>\n",
      "<div class=\"pypvi_detailItem\">\n",
      "<b>Stock #:</b> 1256-36582\n",
      "                </div>\n",
      "<div class=\"pypvi_detailItem\">\n",
      "<b>Available:</b>\n",
      "<time datetime=\"2024-04-22T09:00:06.709Z\">4/22/2024</time>\n",
      "</div>\n",
      "</div>, <div class=\"pypvi_details text--small\">\n",
      "<a class=\"pypvi_ymm\" href=\"/inventory/milwaukee-1256/2010-honda-insight/\">\n",
      "                    2010 <wbr/>HONDA <wbr/>INSIGHT\n",
      "                </a>\n",
      "<div class=\"pypvi_detailItem\">\n",
      "<b>Color: </b>Red\n",
      "                </div>\n",
      "<div class=\"pypvi_detailItem\">\n",
      "<b>VIN: </b>JHMZE2H56AS006393\n",
      "                </div>\n",
      "<div class=\"pypvi_detailItem\">\n",
      "<b>Section: </b>Imports\n",
      "                      \n",
      "                    <b>Row: </b>56\n",
      "                      \n",
      "                    <b>Space: </b>6\n",
      "                </div>\n",
      "<div class=\"pypvi_detailItem\">\n",
      "<b>Stock #:</b> 1256-35846\n",
      "                </div>\n",
      "<div class=\"pypvi_detailItem\">\n",
      "<b>Available:</b>\n",
      "<time datetime=\"2024-02-23T07:56:56.024Z\">2/23/2024</time>\n",
      "</div>\n",
      "</div>, <div class=\"pypvi_details text--small\">\n",
      "<a class=\"pypvi_ymm\" href=\"/inventory/milwaukee-1256/2001-honda-insight/\">\n",
      "                    2001 <wbr/>HONDA <wbr/>INSIGHT\n",
      "                </a>\n",
      "<div class=\"pypvi_detailItem\">\n",
      "<b>Color: </b>Other\n",
      "                </div>\n",
      "<div class=\"pypvi_detailItem\">\n",
      "<b>VIN: </b>JHMZE13771T001345\n",
      "                </div>\n",
      "<div class=\"pypvi_detailItem\">\n",
      "<b>Section: </b>Imports\n",
      "                      \n",
      "                    <b>Row: </b>55\n",
      "                      \n",
      "                    <b>Space: </b>9\n",
      "                </div>\n",
      "<div class=\"pypvi_detailItem\">\n",
      "<b>Stock #:</b> 1256-35347\n",
      "                </div>\n",
      "<div class=\"pypvi_detailItem\">\n",
      "<b>Available:</b>\n",
      "<time datetime=\"2024-02-21T08:50:06.394Z\">2/21/2024</time>\n",
      "</div>\n",
      "</div>]\n"
     ]
    },
    {
     "ename": "TypeError",
     "evalue": "'NoneType' object is not callable",
     "output_type": "error",
     "traceback": [
      "\u001b[0;31m---------------------------------------------------------------------------\u001b[0m",
      "\u001b[0;31mTypeError\u001b[0m                                 Traceback (most recent call last)",
      "Cell \u001b[0;32mIn[22], line 3\u001b[0m\n\u001b[1;32m      1\u001b[0m listing_cards \u001b[38;5;241m=\u001b[39m market_soup\u001b[38;5;241m.\u001b[39mfind_all(\u001b[38;5;124m'\u001b[39m\u001b[38;5;124mdiv\u001b[39m\u001b[38;5;124m'\u001b[39m, class_\u001b[38;5;241m=\u001b[39m\u001b[38;5;124m\"\u001b[39m\u001b[38;5;124mpypvi_details text--small\u001b[39m\u001b[38;5;124m\"\u001b[39m)\n\u001b[1;32m      2\u001b[0m \u001b[38;5;28mprint\u001b[39m(listing_cards)\n\u001b[0;32m----> 3\u001b[0m div_tags \u001b[38;5;241m=\u001b[39m [listing\u001b[38;5;241m.\u001b[39mfindall(\u001b[38;5;124m\"\u001b[39m\u001b[38;5;124mdiv\u001b[39m\u001b[38;5;124m\"\u001b[39m) \u001b[38;5;28;01mfor\u001b[39;00m listing \u001b[38;5;129;01min\u001b[39;00m listing_cards]\n\u001b[1;32m      4\u001b[0m titles_elements \u001b[38;5;241m=\u001b[39m [listing\u001b[38;5;241m.\u001b[39mfind(\u001b[38;5;124m\"\u001b[39m\u001b[38;5;124ma\u001b[39m\u001b[38;5;124m\"\u001b[39m) \u001b[38;5;28;01mfor\u001b[39;00m listing \u001b[38;5;129;01min\u001b[39;00m listing_cards]\n\u001b[1;32m      5\u001b[0m color_list \u001b[38;5;241m=\u001b[39m []\n",
      "Cell \u001b[0;32mIn[22], line 3\u001b[0m, in \u001b[0;36m<listcomp>\u001b[0;34m(.0)\u001b[0m\n\u001b[1;32m      1\u001b[0m listing_cards \u001b[38;5;241m=\u001b[39m market_soup\u001b[38;5;241m.\u001b[39mfind_all(\u001b[38;5;124m'\u001b[39m\u001b[38;5;124mdiv\u001b[39m\u001b[38;5;124m'\u001b[39m, class_\u001b[38;5;241m=\u001b[39m\u001b[38;5;124m\"\u001b[39m\u001b[38;5;124mpypvi_details text--small\u001b[39m\u001b[38;5;124m\"\u001b[39m)\n\u001b[1;32m      2\u001b[0m \u001b[38;5;28mprint\u001b[39m(listing_cards)\n\u001b[0;32m----> 3\u001b[0m div_tags \u001b[38;5;241m=\u001b[39m [listing\u001b[38;5;241m.\u001b[39mfindall(\u001b[38;5;124m\"\u001b[39m\u001b[38;5;124mdiv\u001b[39m\u001b[38;5;124m\"\u001b[39m) \u001b[38;5;28;01mfor\u001b[39;00m listing \u001b[38;5;129;01min\u001b[39;00m listing_cards]\n\u001b[1;32m      4\u001b[0m titles_elements \u001b[38;5;241m=\u001b[39m [listing\u001b[38;5;241m.\u001b[39mfind(\u001b[38;5;124m\"\u001b[39m\u001b[38;5;124ma\u001b[39m\u001b[38;5;124m\"\u001b[39m) \u001b[38;5;28;01mfor\u001b[39;00m listing \u001b[38;5;129;01min\u001b[39;00m listing_cards]\n\u001b[1;32m      5\u001b[0m color_list \u001b[38;5;241m=\u001b[39m []\n",
      "\u001b[0;31mTypeError\u001b[0m: 'NoneType' object is not callable"
     ]
    }
   ],
   "source": [
    "        listing_cards = market_soup.find_all('div', class_=\"pypvi_details text--small\")\n",
    "        print(listing_cards)\n",
    "        div_tags = [listing.findall('div') for listing in listing_cards]\n",
    "        titles_elements = [listing.find(\"a\") for listing in listing_cards]\n",
    "        color_list = []\n",
    "        section_list =[]\n",
    "        stocknum_list = []\n",
    "        available_list =[]\n",
    "\n",
    "\n",
    "        for groups in div_tags:\n",
    "            for i, div in enumerate(groups):\n",
    "                if i == 0:\n",
    "                    color_list.append(div.text.strip())\n",
    "                elif i == 1:\n",
    "                    section_list.append(div.text.strip())\n",
    "                elif i == 2:\n",
    "                    stocknum_list.append(div.text.strip())\n",
    "                elif i == 3:\n",
    "                    available_list.append(div.text.strip())\n",
    "\n",
    "        return (titles_elements, color_list, section_list, stocknum_list, available_list)"
   ]
  },
  {
   "cell_type": "code",
   "execution_count": null,
   "id": "1995dd27-b586-4967-bc4e-5aaa23d0184f",
   "metadata": {},
   "outputs": [],
   "source": []
  }
 ],
 "metadata": {
  "kernelspec": {
   "display_name": "Python 3 (ipykernel)",
   "language": "python",
   "name": "python3"
  },
  "language_info": {
   "codemirror_mode": {
    "name": "ipython",
    "version": 3
   },
   "file_extension": ".py",
   "mimetype": "text/x-python",
   "name": "python",
   "nbconvert_exporter": "python",
   "pygments_lexer": "ipython3",
   "version": "3.10.0"
  }
 },
 "nbformat": 4,
 "nbformat_minor": 5
}
