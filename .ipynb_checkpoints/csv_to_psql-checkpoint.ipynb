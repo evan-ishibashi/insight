{
 "cells": [
  {
   "cell_type": "code",
   "execution_count": null,
   "metadata": {},
   "outputs": [],
   "source": [
    "# upload csv to postgres\n",
    "import psycopg2\n",
    "import pandas as pd\n",
    "from sqlalchemy import create_engine, text\n",
    "from config import config"
   ]
  },
  {
   "cell_type": "code",
   "execution_count": null,
   "metadata": {},
   "outputs": [],
   "source": [
    "# Create a connection to the PostgreSQL server\n",
    "params = config()\n",
    "conn = psycopg2.connect(**params)\n",
    "\n",
    "# Create a cursor object\n",
    "cur = conn.cursor()\n",
    "\n",
    "# Set automatic commit to be true, so that each action is committed without having to call conn.committ() after each command\n",
    "conn.set_session(autocommit=True)\n",
    "\n",
    "# # Create the 'soccer' database\n",
    "# cur.execute(\"CREATE DATABASE soccer\")\n",
    "\n",
    "# Commit the changes and close the connection to the default database\n",
    "conn.commit()\n",
    "cur.close()\n",
    "conn.close()"
   ]
  },
  {
   "cell_type": "code",
   "execution_count": null,
   "metadata": {},
   "outputs": [],
   "source": [
    "# Connect to the 'insight' database\n",
    "db_params['database'] = 'insight'\n",
    "engine = create_engine(f'postgresql://{db_params[\"user\"]}:{db_params[\"password\"]}@{db_params[\"host\"]}/{db_params[\"database\"]}')\n",
    "\n",
    "# Define the file paths for your CSV files\n",
    "csv_files = {\n",
    "    'fb': f'/Users/evanishibashi/Projects/insight/csv/fb/{date.today()}.csv'\n",
    "    # 'offerup': 'f'/Users/evanishibashi/Projects/insight/csv/offerup/{date.today()}.csv'\n",
    "}\n",
    "\n",
    "# Load and display the contents of each CSV file to check\n",
    "for table_name, file_path in csv_files.items():\n",
    "    print(f\"Contents of '{table_name}' CSV file:\")\n",
    "    df = pd.read_csv(file_path)\n",
    "    print(df.head(2))  # Display the first few rows of the DataFrame\n",
    "    print(\"\\n\")"
   ]
  },
  {
   "cell_type": "code",
   "execution_count": null,
   "metadata": {},
   "outputs": [],
   "source": [
    "# Loop through the CSV files and import them into PostgreSQL\n",
    "for table_name, file_path in csv_files.items():\n",
    "    df = pd.read_csv(file_path)\n",
    "    df.to_sql(table_name, engine, if_exists='replace', index=False)"
   ]
  }
 ],
 "metadata": {
  "language_info": {
   "name": "python"
  }
 },
 "nbformat": 4,
 "nbformat_minor": 2
}
