{
 "cells": [
  {
   "cell_type": "code",
   "execution_count": 1,
   "id": "db586c80-bc77-4f4b-b714-dbac39335295",
   "metadata": {},
   "outputs": [],
   "source": [
    "from lkq_utils import Lkq_insight as Lkq\n",
    "import re\n",
    "import pandas as pd"
   ]
  },
  {
   "cell_type": "code",
   "execution_count": 2,
   "id": "802f9da0-b682-4aa7-96c7-ce1d4537469d",
   "metadata": {},
   "outputs": [],
   "source": [
    "browser = Lkq.create_browser('honda insight','milwaukee-1256')"
   ]
  },
  {
   "cell_type": "code",
   "execution_count": 3,
   "id": "202587df-b3ec-4f94-b00e-85b90bcb28af",
   "metadata": {},
   "outputs": [],
   "source": [
    "html = Lkq.get_html(browser)"
   ]
  },
  {
   "cell_type": "code",
   "execution_count": 4,
   "id": "11839327-3e3a-4da2-bf4b-a3d9d17284a6",
   "metadata": {},
   "outputs": [],
   "source": [
    "(title_list, url_list, color_list, vin_list, section_list, stocknum_list, available_list, img_list) = Lkq.parse_html(html)"
   ]
  },
  {
   "cell_type": "code",
   "execution_count": 5,
   "id": "1995dd27-b586-4967-bc4e-5aaa23d0184f",
   "metadata": {},
   "outputs": [
    {
     "data": {
      "text/plain": [
       "['2010\\xa0HONDA\\xa0INSIGHT', '2001\\xa0HONDA\\xa0INSIGHT']"
      ]
     },
     "execution_count": 5,
     "metadata": {},
     "output_type": "execute_result"
    }
   ],
   "source": [
    "title_list"
   ]
  },
  {
   "cell_type": "code",
   "execution_count": 6,
   "id": "00f1fc34-f9ff-4126-96eb-f4eed57c8b48",
   "metadata": {},
   "outputs": [
    {
     "data": {
      "text/plain": [
       "['/inventory/milwaukee-1256/2010-honda-insight/',\n",
       " '/inventory/milwaukee-1256/2001-honda-insight/']"
      ]
     },
     "execution_count": 6,
     "metadata": {},
     "output_type": "execute_result"
    }
   ],
   "source": [
    "url_list"
   ]
  },
  {
   "cell_type": "code",
   "execution_count": 7,
   "id": "0c062058-5e1f-4f36-a47e-5b0cf63b59a8",
   "metadata": {},
   "outputs": [
    {
     "data": {
      "text/plain": [
       "['Color: Red', 'Color: Other']"
      ]
     },
     "execution_count": 7,
     "metadata": {},
     "output_type": "execute_result"
    }
   ],
   "source": [
    "color_list"
   ]
  },
  {
   "cell_type": "code",
   "execution_count": 8,
   "id": "dcda9cac-5003-4226-91d4-dfd18c8ff9ca",
   "metadata": {},
   "outputs": [
    {
     "data": {
      "text/plain": [
       "['VIN: JHMZE2H56AS006393', 'VIN: JHMZE13771T001345']"
      ]
     },
     "execution_count": 8,
     "metadata": {},
     "output_type": "execute_result"
    }
   ],
   "source": [
    "vin_list"
   ]
  },
  {
   "cell_type": "code",
   "execution_count": 9,
   "id": "2cd2ec68-adfa-4ff2-9b37-904f96a31a45",
   "metadata": {},
   "outputs": [
    {
     "data": {
      "text/plain": [
       "['Section: Imports\\n                    \\xa0\\xa0\\n                    Row: 56\\n                    \\xa0\\xa0\\n                    Space: 6',\n",
       " 'Section: Imports\\n                    \\xa0\\xa0\\n                    Row: 55\\n                    \\xa0\\xa0\\n                    Space: 9']"
      ]
     },
     "execution_count": 9,
     "metadata": {},
     "output_type": "execute_result"
    }
   ],
   "source": [
    "section_list"
   ]
  },
  {
   "cell_type": "code",
   "execution_count": 10,
   "id": "b5391e6b-7629-495b-afba-936a36a54e34",
   "metadata": {},
   "outputs": [
    {
     "data": {
      "text/plain": [
       "['Stock #: 1256-35846', 'Stock #: 1256-35347']"
      ]
     },
     "execution_count": 10,
     "metadata": {},
     "output_type": "execute_result"
    }
   ],
   "source": [
    "stocknum_list"
   ]
  },
  {
   "cell_type": "code",
   "execution_count": 11,
   "id": "c9642075-5de6-41b9-bb40-fa71c41f363c",
   "metadata": {},
   "outputs": [
    {
     "data": {
      "text/plain": [
       "['Available:\\n2/23/2024', 'Available:\\n2/21/2024']"
      ]
     },
     "execution_count": 11,
     "metadata": {},
     "output_type": "execute_result"
    }
   ],
   "source": [
    "available_list"
   ]
  },
  {
   "cell_type": "code",
   "execution_count": 12,
   "id": "d2238277-fac6-4b50-8e35-bff2512ab5ea",
   "metadata": {},
   "outputs": [
    {
     "data": {
      "text/plain": [
       "['https://lkqstreamingmedia.azureedge.net/tractable-video-container/1256/18518019.mp4?vehicle=2010 HONDA INSIGHT&quality=35',\n",
       " 'https://lkqstreamingmedia.azureedge.net/tractable-video-container/1256/18198939.mp4?vehicle=2001 HONDA INSIGHT&quality=35']"
      ]
     },
     "execution_count": 12,
     "metadata": {},
     "output_type": "execute_result"
    }
   ],
   "source": [
    "img_list"
   ]
  },
  {
   "cell_type": "code",
   "execution_count": 13,
   "id": "d39f89c2-0a1f-4a4d-bb4c-07995a34940f",
   "metadata": {},
   "outputs": [
    {
     "name": "stdout",
     "output_type": "stream",
     "text": [
      "['2010 HONDA INSIGHT', '2001 HONDA INSIGHT']\n"
     ]
    }
   ],
   "source": [
    "clean_titles = Lkq.clean_titles(title_list)\n",
    "print(clean_titles)"
   ]
  },
  {
   "cell_type": "code",
   "execution_count": 14,
   "id": "67bcb08a-e59d-4b60-8647-c12e44f96ab1",
   "metadata": {},
   "outputs": [
    {
     "name": "stdout",
     "output_type": "stream",
     "text": [
      "['https://www.lkqpickyourpart.com/inventory/milwaukee-1256/2010-honda-insight/', 'https://www.lkqpickyourpart.com/inventory/milwaukee-1256/2001-honda-insight/']\n"
     ]
    }
   ],
   "source": [
    "clean_url_list = Lkq.clean_urls(url_list)\n",
    "print(clean_url_list)"
   ]
  },
  {
   "cell_type": "code",
   "execution_count": 15,
   "id": "e4f69944-cd02-4aad-95b4-8f3f5161e4f7",
   "metadata": {},
   "outputs": [
    {
     "name": "stdout",
     "output_type": "stream",
     "text": [
      "['Red', 'Other']\n"
     ]
    }
   ],
   "source": [
    "clean_color_list = Lkq.clean_colors(color_list)\n",
    "print(clean_color_list)"
   ]
  },
  {
   "cell_type": "code",
   "execution_count": 16,
   "id": "fbfd4502-7246-4ac0-9266-89e9194f435c",
   "metadata": {},
   "outputs": [
    {
     "name": "stdout",
     "output_type": "stream",
     "text": [
      "['JHMZE2H56AS006393', 'JHMZE13771T001345']\n"
     ]
    }
   ],
   "source": [
    "clean_vin_list = Lkq.clean_vins(vin_list)\n",
    "print(clean_vin_list)"
   ]
  },
  {
   "cell_type": "code",
   "execution_count": 17,
   "id": "b257b12f-8365-4d5a-9b46-07275694bb63",
   "metadata": {},
   "outputs": [
    {
     "name": "stdout",
     "output_type": "stream",
     "text": [
      "['Imports', 'Imports'] ['56', '55'] ['6', '9']\n"
     ]
    }
   ],
   "source": [
    "clean_section_list, clean_row_list, clean_space_list = Lkq.clean_sections(section_list)\n",
    "print(clean_section_list, clean_row_list, clean_space_list)"
   ]
  },
  {
   "cell_type": "code",
   "execution_count": 18,
   "id": "62fe4349-d3e5-4bb8-a4ba-71f66683b5cc",
   "metadata": {},
   "outputs": [
    {
     "name": "stdout",
     "output_type": "stream",
     "text": [
      "['JHMZE2H56AS006393', 'JHMZE13771T001345']\n"
     ]
    }
   ],
   "source": [
    "clean_stocknum_list = Lkq.clean_stocknums(stocknum_list)\n",
    "print(clean_vin_list)"
   ]
  },
  {
   "cell_type": "code",
   "execution_count": 19,
   "id": "26a9429f-86eb-46d9-a164-22cbcb87ad1f",
   "metadata": {},
   "outputs": [
    {
     "name": "stdout",
     "output_type": "stream",
     "text": [
      "[datetime.datetime(2024, 2, 23, 0, 0), datetime.datetime(2024, 2, 21, 0, 0)]\n"
     ]
    }
   ],
   "source": [
    "clean_available_date_list = Lkq.clean_availables(available_list)\n",
    "print(clean_available_date_list)"
   ]
  },
  {
   "cell_type": "code",
   "execution_count": 20,
   "id": "26dcc408-20cf-400d-9d3d-152466df4f99",
   "metadata": {},
   "outputs": [
    {
     "name": "stdout",
     "output_type": "stream",
     "text": [
      "['https://lkqstreamingmedia.azureedge.net/tractable-video-container/1256/18518019.mp4?vehicle=2010', 'https://lkqstreamingmedia.azureedge.net/tractable-video-container/1256/18198939.mp4?vehicle=2001']\n"
     ]
    }
   ],
   "source": [
    "clean_img_list = Lkq.clean_imgs(img_list)\n",
    "print(clean_img_list)"
   ]
  },
  {
   "cell_type": "code",
   "execution_count": 21,
   "id": "c101bbe5-3f7a-4ac8-936d-42a002664044",
   "metadata": {},
   "outputs": [],
   "source": [
    "location = 'Milwaukee, WI'\n",
    "vehicles_list = Lkq.organize_data(location, clean_titles, clean_url_list, clean_color_list, clean_vin_list,\n",
    "                      clean_section_list, clean_row_list, clean_space_list, clean_available_date_list, clean_img_list)"
   ]
  },
  {
   "cell_type": "code",
   "execution_count": 22,
   "id": "3eafd39f-828c-49fc-8d75-ed495d5b7ffc",
   "metadata": {},
   "outputs": [],
   "source": [
    "vehicles_df = pd.DataFrame(vehicles_list)"
   ]
  },
  {
   "cell_type": "code",
   "execution_count": 23,
   "id": "d8afa00b-a3fb-4a0f-bcee-216cc1b85a89",
   "metadata": {},
   "outputs": [
    {
     "data": {
      "text/html": [
       "<div>\n",
       "<style scoped>\n",
       "    .dataframe tbody tr th:only-of-type {\n",
       "        vertical-align: middle;\n",
       "    }\n",
       "\n",
       "    .dataframe tbody tr th {\n",
       "        vertical-align: top;\n",
       "    }\n",
       "\n",
       "    .dataframe thead th {\n",
       "        text-align: right;\n",
       "    }\n",
       "</style>\n",
       "<table border=\"1\" class=\"dataframe\">\n",
       "  <thead>\n",
       "    <tr style=\"text-align: right;\">\n",
       "      <th></th>\n",
       "      <th>date</th>\n",
       "      <th>available</th>\n",
       "      <th>title</th>\n",
       "      <th>city</th>\n",
       "      <th>state</th>\n",
       "      <th>color</th>\n",
       "      <th>vin</th>\n",
       "      <th>section</th>\n",
       "      <th>row</th>\n",
       "      <th>space</th>\n",
       "      <th>url</th>\n",
       "      <th>image</th>\n",
       "      <th>first_gen</th>\n",
       "      <th>site</th>\n",
       "      <th>year</th>\n",
       "    </tr>\n",
       "  </thead>\n",
       "  <tbody>\n",
       "    <tr>\n",
       "      <th>0</th>\n",
       "      <td>2024-04-24</td>\n",
       "      <td>2024-02-23</td>\n",
       "      <td>2010 HONDA INSIGHT</td>\n",
       "      <td>Milwaukee</td>\n",
       "      <td>WI</td>\n",
       "      <td>Red</td>\n",
       "      <td>JHMZE2H56AS006393</td>\n",
       "      <td>Imports</td>\n",
       "      <td>56</td>\n",
       "      <td>6</td>\n",
       "      <td>https://www.lkqpickyourpart.com/inventory/milw...</td>\n",
       "      <td>https://lkqstreamingmedia.azureedge.net/tracta...</td>\n",
       "      <td>False</td>\n",
       "      <td>lkq</td>\n",
       "      <td>2010</td>\n",
       "    </tr>\n",
       "    <tr>\n",
       "      <th>1</th>\n",
       "      <td>2024-04-24</td>\n",
       "      <td>2024-02-21</td>\n",
       "      <td>2001 HONDA INSIGHT</td>\n",
       "      <td>Milwaukee</td>\n",
       "      <td>WI</td>\n",
       "      <td>Other</td>\n",
       "      <td>JHMZE13771T001345</td>\n",
       "      <td>Imports</td>\n",
       "      <td>55</td>\n",
       "      <td>9</td>\n",
       "      <td>https://www.lkqpickyourpart.com/inventory/milw...</td>\n",
       "      <td>https://lkqstreamingmedia.azureedge.net/tracta...</td>\n",
       "      <td>True</td>\n",
       "      <td>lkq</td>\n",
       "      <td>2001</td>\n",
       "    </tr>\n",
       "  </tbody>\n",
       "</table>\n",
       "</div>"
      ],
      "text/plain": [
       "         date  available               title       city state  color  \\\n",
       "0  2024-04-24 2024-02-23  2010 HONDA INSIGHT  Milwaukee    WI    Red   \n",
       "1  2024-04-24 2024-02-21  2001 HONDA INSIGHT  Milwaukee    WI  Other   \n",
       "\n",
       "                 vin  section row space  \\\n",
       "0  JHMZE2H56AS006393  Imports  56     6   \n",
       "1  JHMZE13771T001345  Imports  55     9   \n",
       "\n",
       "                                                 url  \\\n",
       "0  https://www.lkqpickyourpart.com/inventory/milw...   \n",
       "1  https://www.lkqpickyourpart.com/inventory/milw...   \n",
       "\n",
       "                                               image  first_gen site  year  \n",
       "0  https://lkqstreamingmedia.azureedge.net/tracta...      False  lkq  2010  \n",
       "1  https://lkqstreamingmedia.azureedge.net/tracta...       True  lkq  2001  "
      ]
     },
     "execution_count": 23,
     "metadata": {},
     "output_type": "execute_result"
    }
   ],
   "source": [
    "vehicles_df"
   ]
  },
  {
   "cell_type": "code",
   "execution_count": null,
   "id": "ad0ce602-03c8-4925-b498-58836bd8d532",
   "metadata": {},
   "outputs": [],
   "source": []
  }
 ],
 "metadata": {
  "kernelspec": {
   "display_name": "Python 3 (ipykernel)",
   "language": "python",
   "name": "python3"
  },
  "language_info": {
   "codemirror_mode": {
    "name": "ipython",
    "version": 3
   },
   "file_extension": ".py",
   "mimetype": "text/x-python",
   "name": "python",
   "nbconvert_exporter": "python",
   "pygments_lexer": "ipython3",
   "version": "3.10.0"
  }
 },
 "nbformat": 4,
 "nbformat_minor": 5
}
